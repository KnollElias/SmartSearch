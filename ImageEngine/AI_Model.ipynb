{
 "cells": [
  {
   "cell_type": "markdown",
   "metadata": {
    "colab_type": "text",
    "id": "NenrAcsiM7Zl"
   },
   "source": [
    "## Imports"
   ]
  },
  {
   "cell_type": "code",
   "execution_count": 578,
   "metadata": {
    "colab": {},
    "colab_type": "code",
    "id": "JkMXve8XuN5X"
   },
   "outputs": [],
   "source": [
    " \n",
    "import tensorflow as tf\n",
    "from tensorflow.keras.models import Model\n",
    "from tensorflow.keras.layers import Dense, Input\n",
    "\n",
    "import numpy as np\n",
    "import matplotlib.pyplot as plt\n",
    "import pandas as pd\n",
    "from sklearn.model_selection import train_test_split\n",
    "from sklearn.metrics import confusion_matrix\n",
    "import itertools\n",
    "from tqdm import tqdm\n",
    "import tensorflow_datasets as tfds\n",
    "import matplotlib.ticker as mticker\n",
    "\n",
    "\n",
    "from pathlib import Path\n",
    "from pdf2image import convert_from_path\n",
    "import numpy as np\n",
    "from PIL import Image"
   ]
  },
  {
   "cell_type": "markdown",
   "metadata": {
    "colab_type": "text",
    "id": "wtcG5Of7M-IV"
   },
   "source": [
    "## Load and Preprocess Data\n",
    "\n",
    "Here you are going to use the training and testing splits of the data. Testing split will be used for validation."
   ]
  },
  {
   "cell_type": "code",
   "execution_count": 579,
   "metadata": {},
   "outputs": [],
   "source": [
    "# utility to display a row of images with their predictions and true labels\n",
    "def display_image(image, title):\n",
    "\n",
    "  plt.figure(figsize=(15,5))\n",
    "  plt.title(title)\n",
    "  plt.yticks([])\n",
    "  plt.grid(None)\n",
    "  image = np.reshape(image, [3, 3509, 2481])\n",
    "  image = np.swapaxes(image, 0, 1)\n",
    "  image = np.reshape(image, [3509, 2481*3])\n",
    "  plt.imshow(image)"
   ]
  },
  {
   "cell_type": "code",
   "execution_count": 580,
   "metadata": {},
   "outputs": [],
   "source": [
    "def load_images_and_labels(path, label):\n",
    "    filename=[]\n",
    "    images=[]\n",
    "    labels = []\n",
    "\n",
    "    folder_path = Path(path)\n",
    "    pdf_files = [f.name for f in folder_path.glob(\"*.pdf\")]\n",
    "\n",
    "    for file in pdf_files:\n",
    "        print(file)\n",
    "        image = convert_from_path(path + file, dpi=75)\n",
    "        image = np.array(image)\n",
    "        # Convert RGB to grayscale (monochrome)\n",
    "        if image.shape[-1] == 3:  # Ensure it's an RGB image\n",
    "            image = tf.image.rgb_to_grayscale(image)\n",
    "        image = tf.convert_to_tensor(image, dtype=tf.uint8) \n",
    "\n",
    "        # Set the target height and width (adjust as needed)\n",
    "        target_size = (1241, 1000)  # Example target width and height\n",
    "\n",
    "        # Resize all images\n",
    "        image_resized = tf.image.resize(image, target_size)\n",
    "        \n",
    "        if image_resized.shape[0] == 1:\n",
    "            filename.append(file)\n",
    "            images.append(image_resized)\n",
    "            \n",
    "            #collect class code from dictionary\n",
    "            labels.append(class_codes[label])\n",
    "            #result[file] = {'image' : image, 'label' : label}\n",
    "    result = tf.data.Dataset.from_tensor_slices({'filename' : filename,  \"image\": images, \"label\": labels})\n",
    "    return result\n",
    "\n",
    "def format_image(data):        \n",
    "    image = data[\"image\"]\n",
    "    image = tf.reshape(image, [-1])\n",
    "    image = tf.cast(image, 'float32')\n",
    "    image = image / 255.0\n",
    "    return image, data[\"label\"]\n"
   ]
  },
  {
   "cell_type": "code",
   "execution_count": 581,
   "metadata": {},
   "outputs": [],
   "source": [
    "#class_names = [\"T-shirt/top\", \"Trouser/pants\", \"Pullover shirt\", \"Dress\", \"Coat\", \"Sandal\", \"Shirt\", \"Sneaker\", \"Bag\", \"Ankle boot\"]\n",
    "class_names = [\"ECG_GCG\", \"ECG_FCG\", \"ECG_GCG_EC\", \"GCG_GCG_GCG\"]\n",
    "class_codes = {\"ECG_GCG\" : 0, \"ECG_FCG\" : 1, \"ECG_GCG_EC\" : 2, \"GCG_GCG_GCG\" : 3}"
   ]
  },
  {
   "cell_type": "code",
   "execution_count": 582,
   "metadata": {},
   "outputs": [],
   "source": [
    "base_path = 'C:/Users/jonhe/OneDrive/Documents/Hackathons/AEC Construction 2025/'\n",
    "\n",
    "# pdf_local_path = 'data/Wall_Slab/'\n",
    "\n",
    "# pdf_full_path = base_path + pdf_local_path"
   ]
  },
  {
   "cell_type": "code",
   "execution_count": 583,
   "metadata": {},
   "outputs": [
    {
     "name": "stdout",
     "output_type": "stream",
     "text": [
      "02.6.42 D35 Fenster Wohnen OG.pdf\n",
      "02.6.43 D36 Fenster Bad OG.pdf\n",
      "230523_Beispiel Standarddetail.pdf\n",
      "hbu107-pages.pdf\n",
      "hbu111-pages.pdf\n",
      "HK1.05.pdf\n",
      "HK1.06.pdf\n",
      "HK1.08.pdf\n",
      "HK1.11.pdf\n",
      "HK1.13.pdf\n",
      "MW1.07.pdf\n",
      "WF1.12.pdf\n",
      "WF1.13.pdf\n",
      "WF1.14.pdf\n",
      "WF1.17.pdf\n",
      "WF1.18.pdf\n",
      "WF1.19.pdf\n",
      "WF1.23.pdf\n",
      "WF1.24.pdf\n",
      "WF2.01.pdf\n",
      "WF2.03.pdf\n",
      "WF2.04.pdf\n",
      "WF2.05.pdf\n",
      "WF3.01.pdf\n",
      "02.6.61 D57 Vordach Ost (1).pdf\n",
      "02.6.61 D57 Vordach Ost.pdf\n",
      "02.6.62 D58 Vordach Süd (1).pdf\n",
      "02.6.62 D58 Vordach Süd.pdf\n",
      "0210.1.1.1-Schnitt Dachrand Südflügel.pdf\n",
      "DF1.01.pdf\n",
      "DF1.02.pdf\n",
      "DF2.10.pdf\n",
      "DF3.04.pdf\n",
      "DF4.02.pdf\n",
      "DR01.pdf\n",
      "DR02.pdf\n",
      "DR03.pdf\n",
      "DR04.pdf\n",
      "DR05.pdf\n",
      "DR06.pdf\n",
      "DR07.pdf\n",
      "DR08.pdf\n",
      "DR09.pdf\n",
      "DR10.pdf\n",
      "DR11.pdf\n",
      "DR12.pdf\n",
      "WEG-3-D-1201 Dachrandabschluss(V).pdf\n",
      "Zinco_Dachrand begrünt.pdf\n",
      "ZinCo_Dachrand Begrünung mit Attika.pdf\n",
      "ZinCo_Dachrand Begrünung mit Kiesstreifen.pdf\n",
      "ZinCo_Dachrand mit Wasserspeier.pdf\n",
      "ZinCo_Dachrand niedrig mit Kiesstreifen.pdf\n",
      "02.6.2 D02 Fassadenanschluss Untergeschoss.pdf\n",
      "02.6.21 D20a Zuluftöffnung Wärmepumpe Technik.pdf\n",
      "02.6.25 D24 Fenster Zimmer 2 EG Gross.pdf\n",
      "200226_Merkblatt_Holzbausockel_dmu.pdf\n",
      "BE2.01.pdf\n",
      "BE2.02.pdf\n",
      "BE2.03.pdf\n",
      "BE2.04.pdf\n",
      "BE2.05.pdf\n",
      "BE2.06.pdf\n",
      "BE2.07.pdf\n",
      "BPA_1_15_Sockel AVWD.pdf\n",
      "GR1.01.pdf\n",
      "GR1.02.pdf\n",
      "GR1.03.pdf\n",
      "GR1.04.pdf\n",
      "GR1.05.pdf\n",
      "GR1.06.pdf\n",
      "GR1.09.pdf\n",
      "GR1.10.pdf\n",
      "GR1.11.pdf\n",
      "GR1.12.pdf\n",
      "GR1.13.pdf\n",
      "GR1.14.pdf\n",
      "GR1.15.pdf\n",
      "GR1.16.pdf\n",
      "GR1.17.pdf\n",
      "PB1.02.pdf\n",
      "Sockelpunkt Bauweisen im Holzbau Robert Borsch Laaks.pdf\n",
      "SURCSTHDH_HIN_DET102_Sockel Erdgeschoss - Fenster.pdf\n",
      "SURCSTHDH_HIN_DET105_Sockeldetail Treppenhaus.pdf\n",
      "IM1.01.pdf\n",
      "IM1.02.pdf\n",
      "IM1.03.pdf\n",
      "IM1.04.pdf\n",
      "IM2.01.pdf\n",
      "IM2.02.pdf\n",
      "IM2.03.pdf\n",
      "IM2.04.pdf\n",
      "IM2.05.pdf\n",
      "IM2.06.pdf\n",
      "IM2.07.pdf\n",
      "IM2.08.pdf\n",
      "IM2.09.pdf\n",
      "IM2.10.pdf\n",
      "IM2.11.pdf\n",
      "IM2.12.pdf\n",
      "IM2.13.pdf\n",
      "IM2.14.pdf\n",
      "IM2.15.pdf\n",
      "IM2.16.pdf\n",
      "IM2.17.pdf\n",
      "Seite 3 von B347-A41-D-Wanddetail-cropped.pdf\n",
      "Seite 4 von B347-A41-D-Wandsystem.pdf\n",
      "SURCSTHDH_HIN_DET235_Geschossübergnag aussteifende Innenwand EG.pdf\n",
      "SURCSTHDH_HIN_DET247_Detail Deckenanschluss Innenwand - Trakt C.pdf\n",
      "SURCSTHDH_HIN_DET335_Geschossübergnag aussteifende Innenwand 1.OG.pdf\n",
      "WT2.08.pdf\n"
     ]
    }
   ],
   "source": [
    "# Convert PDF pages to a list of PIL images\n",
    "#image = convert_from_path(pdf_full_path, dpi=75)  # Set dpi for resolution\n",
    "label = 'ECG_GCG'\n",
    "pdf_local_path = 'data/Wall_Slab/'\n",
    "input1 = load_images_and_labels(path = pdf_local_path, label = label)\n",
    "\n",
    "label = 'ECG_FCG'\n",
    "pdf_local_path = 'data/ECG_FCG/'\n",
    "input2 = load_images_and_labels(path = pdf_local_path, label = label)\n",
    "\n",
    "label = 'ECG_GCG_EC'\n",
    "pdf_local_path = 'data/ECG_GCG_EC/'\n",
    "input3 = load_images_and_labels(path = pdf_local_path, label = label)\n",
    "\n",
    "label = 'GCG_GCG_GCG'\n",
    "pdf_local_path = 'data/GCG_GCG_GCG/'\n",
    "input4 = load_images_and_labels(path = pdf_local_path, label = label)\n",
    "\n",
    "\n",
    "# Concatenate them\n",
    "fused_dataset = input1.concatenate(input2).concatenate(input3).concatenate(input4)\n",
    "\n",
    "# # Print result\n",
    "# for element in fused_dataset:\n",
    "#     print(element.numpy())\n",
    "\n",
    "# Output: 1 2 3 4 5 6\n"
   ]
  },
  {
   "cell_type": "code",
   "execution_count": 584,
   "metadata": {},
   "outputs": [
    {
     "data": {
      "text/plain": [
       "<_ConcatenateDataset element_spec={'filename': TensorSpec(shape=(), dtype=tf.string, name=None), 'image': TensorSpec(shape=(1, 1241, 1000, 1), dtype=tf.float32, name=None), 'label': TensorSpec(shape=(), dtype=tf.int32, name=None)}>"
      ]
     },
     "execution_count": 584,
     "metadata": {},
     "output_type": "execute_result"
    }
   ],
   "source": [
    "fused_dataset"
   ]
  },
  {
   "cell_type": "code",
   "execution_count": 585,
   "metadata": {},
   "outputs": [],
   "source": [
    "# for sample in fused_dataset.take(50):  # Adjust the number of samples as needed\n",
    "#     print(sample['label'].numpy())  # Convert from Tensor to NumPy\n"
   ]
  },
  {
   "cell_type": "code",
   "execution_count": 586,
   "metadata": {},
   "outputs": [],
   "source": [
    "input_formatted = fused_dataset.map(format_image)"
   ]
  },
  {
   "cell_type": "code",
   "execution_count": 587,
   "metadata": {},
   "outputs": [],
   "source": [
    "# plt.figure(figsize=(17,8))\n",
    "# plt.imshow(image_arrays[0])"
   ]
  },
  {
   "cell_type": "code",
   "execution_count": 588,
   "metadata": {},
   "outputs": [],
   "source": [
    "# Convert the NumPy array into a TensorFlow dataset\n",
    "#dataset = tf.data.Dataset.from_tensor_slices({\"image\": image_arrays, \"label\": labels})"
   ]
  },
  {
   "cell_type": "code",
   "execution_count": 589,
   "metadata": {},
   "outputs": [],
   "source": [
    "#tf_image_array = tf.data.Dataset.from_tensor_slices(image_arrays[0])"
   ]
  },
  {
   "cell_type": "code",
   "execution_count": 590,
   "metadata": {
    "colab": {},
    "colab_type": "code",
    "id": "K1qm4y2FmvWJ"
   },
   "outputs": [],
   "source": [
    "#train_data, info = tfds.load(\"fashion_mnist\", split = \"train\", with_info = True, data_dir='./data/', download=True)\n",
    "#test_data = tfds.load(\"fashion_mnist\", split = \"test\", data_dir='./data/', download=True)"
   ]
  },
  {
   "cell_type": "markdown",
   "metadata": {
    "colab_type": "text",
    "id": "ws3N-uOgOnMf"
   },
   "source": [
    "Now you shuffle and batch your training and test datasets before feeding them to the model."
   ]
  },
  {
   "cell_type": "code",
   "execution_count": 591,
   "metadata": {},
   "outputs": [],
   "source": [
    "input_formatted = input_formatted.shuffle(buffer_size=1024)"
   ]
  },
  {
   "cell_type": "code",
   "execution_count": 592,
   "metadata": {},
   "outputs": [
    {
     "name": "stdout",
     "output_type": "stream",
     "text": [
      "Total dataset size: 108\n",
      "Train dataset size: 97\n",
      "Test dataset size: 11\n"
     ]
    }
   ],
   "source": [
    "# Example: Your dataset (assuming it's already created)\n",
    "dataset = input_formatted  # Replace with your actual dataset\n",
    "\n",
    "# Get dataset size (if unknown)\n",
    "dataset_size = dataset.cardinality().numpy()\n",
    "if dataset_size == tf.data.INFINITE_CARDINALITY:\n",
    "    raise ValueError(\"Dataset size is infinite; cannot split.\")\n",
    "elif dataset_size == tf.data.UNKNOWN_CARDINALITY:\n",
    "    dataset_size = sum(1 for _ in dataset)  # Count elements manually\n",
    "\n",
    "# Define split ratio\n",
    "train_ratio = 0.9\n",
    "train_size = int(dataset_size * train_ratio)\n",
    "\n",
    "# Split dataset\n",
    "train_dataset = dataset.take(train_size)\n",
    "test_dataset = dataset.skip(train_size)\n",
    "\n",
    "# Print dataset sizes\n",
    "print(f\"Total dataset size: {dataset_size}\")\n",
    "print(f\"Train dataset size: {train_size}\")\n",
    "print(f\"Test dataset size: {dataset_size - train_size}\")"
   ]
  },
  {
   "cell_type": "code",
   "execution_count": 593,
   "metadata": {
    "colab": {},
    "colab_type": "code",
    "id": "h9qdsNPen5-F"
   },
   "outputs": [],
   "source": [
    "batch_size = 32\n",
    "train = train_dataset.shuffle(buffer_size=1024).batch(batch_size)\n",
    "\n",
    "test =  test_dataset.batch(batch_size=batch_size)"
   ]
  },
  {
   "cell_type": "markdown",
   "metadata": {
    "colab_type": "text",
    "id": "fuCf0s7eOxKQ"
   },
   "source": [
    "## Define the Model\n",
    "You are using a simple model in this example. You use Keras Functional API to connect two dense layers. The final layer is a softmax that outputs one of the 10 classes since this is a multi class classification problem."
   ]
  },
  {
   "cell_type": "code",
   "execution_count": 594,
   "metadata": {
    "colab": {},
    "colab_type": "code",
    "id": "HU3qcM9WBcMh"
   },
   "outputs": [],
   "source": [
    "def base_model():\n",
    "  inputs = tf.keras.Input(shape=(1241000,), name='digits')\n",
    "  x = tf.keras.layers.Dense(64, activation='relu', name='dense_1')(inputs)\n",
    "  x = tf.keras.layers.Dense(64, activation='relu', name='dense_2')(x)\n",
    "  outputs = tf.keras.layers.Dense(4, activation='softmax', name='predictions')(x)\n",
    "  model = tf.keras.Model(inputs=inputs, outputs=outputs)\n",
    "  return model"
   ]
  },
  {
   "cell_type": "markdown",
   "metadata": {
    "colab_type": "text",
    "id": "mxaHy1NYPGSb"
   },
   "source": [
    "## Define Optimizer and Loss Function\n",
    "\n",
    "You have chosen `adam` optimizer and sparse categorical crossentropy loss for this example."
   ]
  },
  {
   "cell_type": "code",
   "execution_count": 595,
   "metadata": {
    "colab": {},
    "colab_type": "code",
    "id": "v5B3vh6fs84i"
   },
   "outputs": [],
   "source": [
    "optimizer = tf.keras.optimizers.Adam(learning_rate=0.000025)\n",
    "loss_object = tf.keras.losses.SparseCategoricalCrossentropy()"
   ]
  },
  {
   "cell_type": "markdown",
   "metadata": {
    "colab_type": "text",
    "id": "w1fJsdYIPTb8"
   },
   "source": [
    "## Define Metrics\n",
    "\n",
    "You will also define metrics so that your training loop can update and display them. Here you are using `SparseCategoricalAccuracy`defined in `tf.keras.metrics` since the problem at hand is a multi class classification problem."
   ]
  },
  {
   "cell_type": "code",
   "execution_count": 596,
   "metadata": {
    "colab": {},
    "colab_type": "code",
    "id": "7Pa_x-5-CH_V"
   },
   "outputs": [],
   "source": [
    "train_acc_metric = tf.keras.metrics.SparseCategoricalAccuracy()\n",
    "val_acc_metric = tf.keras.metrics.SparseCategoricalAccuracy()"
   ]
  },
  {
   "cell_type": "markdown",
   "metadata": {
    "colab_type": "text",
    "id": "HVFI54MpQUDp"
   },
   "source": [
    "## Building Training Loop\n",
    "In this section you build your training loop consisting of training and validation sequences."
   ]
  },
  {
   "cell_type": "markdown",
   "metadata": {
    "colab_type": "text",
    "id": "9n90NqQmQfJv"
   },
   "source": [
    "The core of training is using the model to calculate the logits on specific set of inputs and compute loss (in this case **sparse categorical crossentropy**) by comparing the predicted outputs to the true outputs. You then update the trainable weights using the optimizer algorithm chosen. Optimizer algorithm requires your computed loss and partial derivatives of loss with respect to each of the trainable weights to make updates to the same.\n",
    "\n",
    "You use gradient tape to calculate the gradients and then update the model trainable weights using the optimizer."
   ]
  },
  {
   "cell_type": "code",
   "execution_count": 597,
   "metadata": {
    "colab": {},
    "colab_type": "code",
    "id": "MMPe25Dstn0v"
   },
   "outputs": [],
   "source": [
    "def apply_gradient(optimizer, model, x, y):\n",
    "  with tf.GradientTape() as tape:\n",
    "    logits = model(x)\n",
    "    loss_value = loss_object(y_true=y, y_pred=logits)\n",
    "  \n",
    "  gradients = tape.gradient(loss_value, model.trainable_weights)\n",
    "  optimizer.apply_gradients(zip(gradients, model.trainable_weights))\n",
    "  \n",
    "  return logits, loss_value"
   ]
  },
  {
   "cell_type": "markdown",
   "metadata": {
    "colab_type": "text",
    "id": "KZnuYWn8QrU9"
   },
   "source": [
    "This function performs training during one epoch. You run through all batches of training data in each epoch to make updates to trainable weights using your previous function. You can see that we also call update_state on your metrics to accumulate the value of your metrics.\n",
    "You are displaying a progress bar to indicate completion of training in each epoch. Here you use tqdm for displaying the progress bar."
   ]
  },
  {
   "cell_type": "code",
   "execution_count": 598,
   "metadata": {
    "colab": {},
    "colab_type": "code",
    "id": "3fHoh_hgz2PC"
   },
   "outputs": [],
   "source": [
    "def train_data_for_one_epoch():\n",
    "  losses = []\n",
    "  pbar = tqdm(total=len(list(enumerate(train))), position=0, leave=True, bar_format='{l_bar}{bar}| {n_fmt}/{total_fmt} ')\n",
    "  for step, (x_batch_train, y_batch_train) in enumerate(train):\n",
    "      logits, loss_value = apply_gradient(optimizer, model, x_batch_train, y_batch_train)\n",
    "      \n",
    "      losses.append(loss_value)\n",
    "      \n",
    "      train_acc_metric(y_batch_train, logits)\n",
    "      pbar.set_description(\"Training loss for step %s: %.4f\" % (int(step), float(loss_value)))\n",
    "      pbar.update()\n",
    "  return losses"
   ]
  },
  {
   "cell_type": "markdown",
   "metadata": {
    "colab_type": "text",
    "id": "kBZyXnuUQxVn"
   },
   "source": [
    "At the end of each epoch you have to validate the model on the test dataset. The following function calculates the loss on test dataset and updates the states of the validation metrics."
   ]
  },
  {
   "cell_type": "code",
   "execution_count": 599,
   "metadata": {
    "colab": {},
    "colab_type": "code",
    "id": "5gLJyAJE0YRc"
   },
   "outputs": [],
   "source": [
    "def perform_validation():\n",
    "  losses = []\n",
    "  for x_val, y_val in test:\n",
    "      val_logits = model(x_val)\n",
    "      val_loss = loss_object(y_true=y_val, y_pred=val_logits)\n",
    "      losses.append(val_loss)\n",
    "      val_acc_metric(y_val, val_logits)\n",
    "  return losses"
   ]
  },
  {
   "cell_type": "markdown",
   "metadata": {
    "colab_type": "text",
    "id": "rh74YX2nQ2i1"
   },
   "source": [
    "Next you define the training loop that runs through the training samples repeatedly over a fixed number of epochs. Combine the functions you built earlier to establish the following flow:\n",
    "1. Perform training over all batches of training data.\n",
    "2. Get values of metrics.\n",
    "3. Perform validation to calculate loss and update validation metrics on test data.\n",
    "4. Reset the metrics at the end of epoch.\n",
    "5. Display statistics at the end of each epoch.\n"
   ]
  },
  {
   "cell_type": "code",
   "execution_count": 600,
   "metadata": {},
   "outputs": [
    {
     "name": "stdout",
     "output_type": "stream",
     "text": [
      "x_batch_train dtype: <dtype: 'float32'>\n",
      "y_batch_train dtype: <dtype: 'int32'>\n"
     ]
    }
   ],
   "source": [
    "for x_batch_train, y_batch_train in train.take(1):  # Take a single batch\n",
    "    print(f\"x_batch_train dtype: {x_batch_train.dtype}\")\n",
    "    print(f\"y_batch_train dtype: {y_batch_train.dtype}\")"
   ]
  },
  {
   "cell_type": "code",
   "execution_count": 601,
   "metadata": {
    "colab": {},
    "colab_type": "code",
    "id": "OOO1x3VyuPUV"
   },
   "outputs": [
    {
     "name": "stdout",
     "output_type": "stream",
     "text": [
      "Start of epoch 0\n"
     ]
    },
    {
     "name": "stderr",
     "output_type": "stream",
     "text": [
      "Training loss for step 3: 18.8736: 100%|██████████| 4/4 \n"
     ]
    },
    {
     "name": "stdout",
     "output_type": "stream",
     "text": [
      "\n",
      " Epoch 0: Train loss: 14.7697  Validation Loss: 6.7951, Train Accuracy: 0.1856, Validation Accuracy 0.2727\n",
      "Start of epoch 1\n"
     ]
    },
    {
     "name": "stderr",
     "output_type": "stream",
     "text": [
      "Training loss for step 3: 10.7834: 100%|██████████| 4/4 \n"
     ]
    },
    {
     "name": "stdout",
     "output_type": "stream",
     "text": [
      "\n",
      " Epoch 1: Train loss: 8.1325  Validation Loss: 5.5660, Train Accuracy: 0.2577, Validation Accuracy 0.2727\n",
      "Start of epoch 2\n"
     ]
    },
    {
     "name": "stderr",
     "output_type": "stream",
     "text": [
      "Training loss for step 3: 2.8732: 100%|██████████| 4/4 \n"
     ]
    },
    {
     "name": "stdout",
     "output_type": "stream",
     "text": [
      "\n",
      " Epoch 2: Train loss: 3.6100  Validation Loss: 3.1174, Train Accuracy: 0.2784, Validation Accuracy 0.1818\n",
      "Start of epoch 3\n"
     ]
    },
    {
     "name": "stderr",
     "output_type": "stream",
     "text": [
      "Training loss for step 3: 12.5575: 100%|██████████| 4/4 \n"
     ]
    },
    {
     "name": "stdout",
     "output_type": "stream",
     "text": [
      "\n",
      " Epoch 3: Train loss: 5.9352  Validation Loss: 3.5685, Train Accuracy: 0.2474, Validation Accuracy 0.3636\n",
      "Start of epoch 4\n"
     ]
    },
    {
     "name": "stderr",
     "output_type": "stream",
     "text": [
      "Training loss for step 3: 0.1240: 100%|██████████| 4/4 \n"
     ]
    },
    {
     "name": "stdout",
     "output_type": "stream",
     "text": [
      "\n",
      " Epoch 4: Train loss: 2.0507  Validation Loss: 2.8369, Train Accuracy: 0.1959, Validation Accuracy 0.3636\n",
      "Start of epoch 5\n"
     ]
    },
    {
     "name": "stderr",
     "output_type": "stream",
     "text": [
      "Training loss for step 3: 4.4003: 100%|██████████| 4/4 \n"
     ]
    },
    {
     "name": "stdout",
     "output_type": "stream",
     "text": [
      "\n",
      " Epoch 5: Train loss: 3.3536  Validation Loss: 2.9603, Train Accuracy: 0.2784, Validation Accuracy 0.2727\n",
      "Start of epoch 6\n"
     ]
    },
    {
     "name": "stderr",
     "output_type": "stream",
     "text": [
      "Training loss for step 3: 1.2014: 100%|██████████| 4/4 \n"
     ]
    },
    {
     "name": "stdout",
     "output_type": "stream",
     "text": [
      "\n",
      " Epoch 6: Train loss: 3.4674  Validation Loss: 1.5895, Train Accuracy: 0.2268, Validation Accuracy 0.6364\n",
      "Start of epoch 7\n"
     ]
    },
    {
     "name": "stderr",
     "output_type": "stream",
     "text": [
      "Training loss for step 3: 4.2613: 100%|██████████| 4/4 \n"
     ]
    },
    {
     "name": "stdout",
     "output_type": "stream",
     "text": [
      "\n",
      " Epoch 7: Train loss: 4.4121  Validation Loss: 1.3643, Train Accuracy: 0.2371, Validation Accuracy 0.3636\n",
      "Start of epoch 8\n"
     ]
    },
    {
     "name": "stderr",
     "output_type": "stream",
     "text": [
      "Training loss for step 3: 0.0160: 100%|██████████| 4/4 \n"
     ]
    },
    {
     "name": "stdout",
     "output_type": "stream",
     "text": [
      "\n",
      " Epoch 8: Train loss: 2.8748  Validation Loss: 4.1837, Train Accuracy: 0.2474, Validation Accuracy 0.1818\n",
      "Start of epoch 9\n"
     ]
    },
    {
     "name": "stderr",
     "output_type": "stream",
     "text": [
      "Training loss for step 3: 2.7833: 100%|██████████| 4/4 \n"
     ]
    },
    {
     "name": "stdout",
     "output_type": "stream",
     "text": [
      "\n",
      " Epoch 9: Train loss: 3.4200  Validation Loss: 1.9755, Train Accuracy: 0.2680, Validation Accuracy 0.3636\n",
      "Start of epoch 10\n"
     ]
    },
    {
     "name": "stderr",
     "output_type": "stream",
     "text": [
      "Training loss for step 3: 4.9258: 100%|██████████| 4/4 \n"
     ]
    },
    {
     "name": "stdout",
     "output_type": "stream",
     "text": [
      "\n",
      " Epoch 10: Train loss: 3.2236  Validation Loss: 1.7073, Train Accuracy: 0.2784, Validation Accuracy 0.3636\n",
      "Start of epoch 11\n"
     ]
    },
    {
     "name": "stderr",
     "output_type": "stream",
     "text": [
      "Training loss for step 3: 0.8185: 100%|██████████| 4/4 \n"
     ]
    },
    {
     "name": "stdout",
     "output_type": "stream",
     "text": [
      "\n",
      " Epoch 11: Train loss: 2.3312  Validation Loss: 2.1854, Train Accuracy: 0.2680, Validation Accuracy 0.4545\n",
      "Start of epoch 12\n"
     ]
    },
    {
     "name": "stderr",
     "output_type": "stream",
     "text": [
      "Training loss for step 3: 1.5745: 100%|██████████| 4/4 \n"
     ]
    },
    {
     "name": "stdout",
     "output_type": "stream",
     "text": [
      "\n",
      " Epoch 12: Train loss: 2.0585  Validation Loss: 1.7186, Train Accuracy: 0.3299, Validation Accuracy 0.3636\n",
      "Start of epoch 13\n"
     ]
    },
    {
     "name": "stderr",
     "output_type": "stream",
     "text": [
      "Training loss for step 3: 1.5604: 100%|██████████| 4/4 \n"
     ]
    },
    {
     "name": "stdout",
     "output_type": "stream",
     "text": [
      "\n",
      " Epoch 13: Train loss: 1.7251  Validation Loss: 1.4861, Train Accuracy: 0.3196, Validation Accuracy 0.3636\n",
      "Start of epoch 14\n"
     ]
    },
    {
     "name": "stderr",
     "output_type": "stream",
     "text": [
      "Training loss for step 3: 3.2231: 100%|██████████| 4/4 \n"
     ]
    },
    {
     "name": "stdout",
     "output_type": "stream",
     "text": [
      "\n",
      " Epoch 14: Train loss: 2.4438  Validation Loss: 2.5139, Train Accuracy: 0.2474, Validation Accuracy 0.3636\n",
      "Start of epoch 15\n"
     ]
    },
    {
     "name": "stderr",
     "output_type": "stream",
     "text": [
      "Training loss for step 3: 1.7906: 100%|██████████| 4/4 \n"
     ]
    },
    {
     "name": "stdout",
     "output_type": "stream",
     "text": [
      "\n",
      " Epoch 15: Train loss: 1.8797  Validation Loss: 3.6668, Train Accuracy: 0.3196, Validation Accuracy 0.3636\n",
      "Start of epoch 16\n"
     ]
    },
    {
     "name": "stderr",
     "output_type": "stream",
     "text": [
      "Training loss for step 3: 1.3005: 100%|██████████| 4/4 \n"
     ]
    },
    {
     "name": "stdout",
     "output_type": "stream",
     "text": [
      "\n",
      " Epoch 16: Train loss: 2.6508  Validation Loss: 1.4831, Train Accuracy: 0.2990, Validation Accuracy 0.3636\n",
      "Start of epoch 17\n"
     ]
    },
    {
     "name": "stderr",
     "output_type": "stream",
     "text": [
      "Training loss for step 3: 0.5015: 100%|██████████| 4/4 \n"
     ]
    },
    {
     "name": "stdout",
     "output_type": "stream",
     "text": [
      "\n",
      " Epoch 17: Train loss: 1.5304  Validation Loss: 2.5780, Train Accuracy: 0.3608, Validation Accuracy 0.1818\n",
      "Start of epoch 18\n"
     ]
    },
    {
     "name": "stderr",
     "output_type": "stream",
     "text": [
      "Training loss for step 3: 3.5901: 100%|██████████| 4/4 \n"
     ]
    },
    {
     "name": "stdout",
     "output_type": "stream",
     "text": [
      "\n",
      " Epoch 18: Train loss: 2.3580  Validation Loss: 1.9299, Train Accuracy: 0.4433, Validation Accuracy 0.1818\n",
      "Start of epoch 19\n"
     ]
    },
    {
     "name": "stderr",
     "output_type": "stream",
     "text": [
      "Training loss for step 3: 0.3161: 100%|██████████| 4/4 \n"
     ]
    },
    {
     "name": "stdout",
     "output_type": "stream",
     "text": [
      "\n",
      " Epoch 19: Train loss: 1.6360  Validation Loss: 1.7853, Train Accuracy: 0.3299, Validation Accuracy 0.4545\n",
      "Start of epoch 20\n"
     ]
    },
    {
     "name": "stderr",
     "output_type": "stream",
     "text": [
      "Training loss for step 3: 0.1859: 100%|██████████| 4/4 \n"
     ]
    },
    {
     "name": "stdout",
     "output_type": "stream",
     "text": [
      "\n",
      " Epoch 20: Train loss: 1.6206  Validation Loss: 1.4340, Train Accuracy: 0.4124, Validation Accuracy 0.2727\n",
      "Start of epoch 21\n"
     ]
    },
    {
     "name": "stderr",
     "output_type": "stream",
     "text": [
      "Training loss for step 3: 1.7980: 100%|██████████| 4/4 \n"
     ]
    },
    {
     "name": "stdout",
     "output_type": "stream",
     "text": [
      "\n",
      " Epoch 21: Train loss: 1.7834  Validation Loss: 1.1438, Train Accuracy: 0.3093, Validation Accuracy 0.5455\n",
      "Start of epoch 22\n"
     ]
    },
    {
     "name": "stderr",
     "output_type": "stream",
     "text": [
      "Training loss for step 3: 1.7903: 100%|██████████| 4/4 \n"
     ]
    },
    {
     "name": "stdout",
     "output_type": "stream",
     "text": [
      "\n",
      " Epoch 22: Train loss: 1.2940  Validation Loss: 1.0954, Train Accuracy: 0.4433, Validation Accuracy 0.6364\n",
      "Start of epoch 23\n"
     ]
    },
    {
     "name": "stderr",
     "output_type": "stream",
     "text": [
      "Training loss for step 3: 0.4949: 100%|██████████| 4/4 \n"
     ]
    },
    {
     "name": "stdout",
     "output_type": "stream",
     "text": [
      "\n",
      " Epoch 23: Train loss: 1.1248  Validation Loss: 1.4400, Train Accuracy: 0.3505, Validation Accuracy 0.5455\n",
      "Start of epoch 24\n"
     ]
    },
    {
     "name": "stderr",
     "output_type": "stream",
     "text": [
      "Training loss for step 3: 1.5817: 100%|██████████| 4/4 \n"
     ]
    },
    {
     "name": "stdout",
     "output_type": "stream",
     "text": [
      "\n",
      " Epoch 24: Train loss: 1.4408  Validation Loss: 1.1148, Train Accuracy: 0.4639, Validation Accuracy 0.5455\n",
      "Start of epoch 25\n"
     ]
    },
    {
     "name": "stderr",
     "output_type": "stream",
     "text": [
      "Training loss for step 3: 0.5979: 100%|██████████| 4/4 \n"
     ]
    },
    {
     "name": "stdout",
     "output_type": "stream",
     "text": [
      "\n",
      " Epoch 25: Train loss: 1.1152  Validation Loss: 2.3016, Train Accuracy: 0.4742, Validation Accuracy 0.5455\n",
      "Start of epoch 26\n"
     ]
    },
    {
     "name": "stderr",
     "output_type": "stream",
     "text": [
      "Training loss for step 3: 1.9655: 100%|██████████| 4/4 \n"
     ]
    },
    {
     "name": "stdout",
     "output_type": "stream",
     "text": [
      "\n",
      " Epoch 26: Train loss: 1.6942  Validation Loss: 1.9678, Train Accuracy: 0.5567, Validation Accuracy 0.4545\n",
      "Start of epoch 27\n"
     ]
    },
    {
     "name": "stderr",
     "output_type": "stream",
     "text": [
      "Training loss for step 3: 2.6525: 100%|██████████| 4/4 \n"
     ]
    },
    {
     "name": "stdout",
     "output_type": "stream",
     "text": [
      "\n",
      " Epoch 27: Train loss: 2.1872  Validation Loss: 1.9571, Train Accuracy: 0.3918, Validation Accuracy 0.3636\n",
      "Start of epoch 28\n"
     ]
    },
    {
     "name": "stderr",
     "output_type": "stream",
     "text": [
      "Training loss for step 3: 1.7686: 100%|██████████| 4/4 \n"
     ]
    },
    {
     "name": "stdout",
     "output_type": "stream",
     "text": [
      "\n",
      " Epoch 28: Train loss: 1.6930  Validation Loss: 1.7792, Train Accuracy: 0.3299, Validation Accuracy 0.3636\n",
      "Start of epoch 29\n"
     ]
    },
    {
     "name": "stderr",
     "output_type": "stream",
     "text": [
      "Training loss for step 3: 4.8962: 100%|██████████| 4/4 "
     ]
    },
    {
     "name": "stdout",
     "output_type": "stream",
     "text": [
      "\n",
      " Epoch 29: Train loss: 2.4568  Validation Loss: 1.7028, Train Accuracy: 0.4433, Validation Accuracy 0.3636\n"
     ]
    },
    {
     "name": "stderr",
     "output_type": "stream",
     "text": [
      "\n"
     ]
    }
   ],
   "source": [
    "\n",
    "model = base_model()\n",
    "\n",
    "# Iterate over epochs.\n",
    "epochs = 30\n",
    "epochs_val_losses, epochs_train_losses = [], []\n",
    "epochs_val_acc, epochs_train_acc = [], []\n",
    "for epoch in range(epochs):\n",
    "  print('Start of epoch %d' % (epoch,))\n",
    "  \n",
    "  losses_train = train_data_for_one_epoch()\n",
    "  train_acc = train_acc_metric.result()\n",
    "  epochs_train_acc.append(train_acc)\n",
    "\n",
    "  losses_val = perform_validation()\n",
    "  val_acc = val_acc_metric.result()\n",
    "  epochs_val_acc.append(val_acc)\n",
    "\n",
    "  losses_train_mean = np.mean(losses_train)\n",
    "  losses_val_mean = np.mean(losses_val)\n",
    "  epochs_val_losses.append(losses_val_mean)\n",
    "  epochs_train_losses.append(losses_train_mean)\n",
    "\n",
    "  print('\\n Epoch %s: Train loss: %.4f  Validation Loss: %.4f, Train Accuracy: %.4f, Validation Accuracy %.4f' % (epoch, float(losses_train_mean), float(losses_val_mean), float(train_acc), float(val_acc)))\n",
    "  #print('\\n Epoch %s: Train loss: %.4f , Train Accuracy: %.4f' % (epoch, float(losses_train_mean),  float(train_acc)))\n",
    "  \n",
    "  train_acc_metric.reset_state()\n",
    "  val_acc_metric.reset_state()\n",
    "\n",
    "\n"
   ]
  },
  {
   "cell_type": "markdown",
   "metadata": {
    "colab_type": "text",
    "id": "ltKpkpzKK_Up"
   },
   "source": [
    "## Evaluate Model"
   ]
  },
  {
   "cell_type": "markdown",
   "metadata": {
    "colab_type": "text",
    "id": "tfGc-gMPLCDn"
   },
   "source": [
    "### Plots for Evaluation\n",
    "You plot the progress of loss as training proceeds over number of epochs."
   ]
  },
  {
   "cell_type": "code",
   "execution_count": 602,
   "metadata": {
    "colab": {},
    "colab_type": "code",
    "id": "NjzIlGipJwC_"
   },
   "outputs": [
    {
     "data": {
      "image/png": "[encoded data removed]",
      "text/plain": [
       "<Figure size 1000x600 with 1 Axes>"
      ]
     },
     "metadata": {},
     "output_type": "display_data"
    }
   ],
   "source": [
    "def plot_metrics(train_metric, val_metric, metric_name, title, ylim=5):\n",
    "#ef plot_metrics(train_metric,  metric_name, title, ylim=50):\n",
    "  plt.figure(figsize=(10, 6))\n",
    "  plt.title(title)\n",
    "  plt.ylim(0,ylim)\n",
    "  plt.xlabel(\"Epochs\")  # Add x-axis label\n",
    "  plt.gca().xaxis.set_major_locator(mticker.MultipleLocator(5))\n",
    "  plt.plot(train_metric,color='blue',label='Training ' + metric_name)\n",
    "  plt.plot(val_metric,color='green',label='Validation ' + metric_name)\n",
    "  plt.legend()\n",
    "  \n",
    "\n",
    "plot_metrics(epochs_train_losses, epochs_val_losses, \"Loss\", \"Loss\", ylim=15.0)\n",
    "#plot_metrics(epochs_train_losses,  \"Loss\", 'Loss', ylim=15.0)"
   ]
  },
  {
   "cell_type": "markdown",
   "metadata": {
    "colab_type": "text",
    "id": "adpLKxFfZzTD"
   },
   "source": [
    "This function displays a row of images with their predictions and true labels."
   ]
  },
  {
   "cell_type": "code",
   "execution_count": 557,
   "metadata": {},
   "outputs": [
    {
     "data": {
      "text/plain": [
       "<tf.Tensor: shape=(), dtype=float32, numpy=0.9090909361839294>"
      ]
     },
     "execution_count": 557,
     "metadata": {},
     "output_type": "execute_result"
    }
   ],
   "source": [
    "val_acc"
   ]
  },
  {
   "cell_type": "code",
   "execution_count": 603,
   "metadata": {},
   "outputs": [
    {
     "data": {
      "image/png": "[encoded data removed]",
      "text/plain": [
       "<Figure size 1000x600 with 1 Axes>"
      ]
     },
     "metadata": {},
     "output_type": "display_data"
    }
   ],
   "source": [
    "def plot_metrics(train_metric, val_metric, metric_name, title, ylim=5):\n",
    "#ef plot_metrics(train_metric,  metric_name, title, ylim=50):\n",
    "  plt.figure(figsize=(10, 6))\n",
    "  plt.title(title)\n",
    "  plt.ylim(0,ylim)\n",
    "  plt.xlabel(\"Epochs\")  # Add x-axis label\n",
    "  plt.gca().xaxis.set_major_locator(mticker.MultipleLocator(5))\n",
    "  plt.plot(train_metric,color='blue',label='Training ' + metric_name)\n",
    "  plt.plot(val_metric,color='green',label='Validation ' + metric_name)\n",
    "  plt.legend()\n",
    "  \n",
    "\n",
    "plot_metrics(epochs_train_acc, epochs_val_acc, \"Accuracy\", \"Accuracy\", ylim=1.0)\n",
    "#plot_metrics(epochs_train_losses,  \"Loss\", 'Loss', ylim=15.0)"
   ]
  },
  {
   "cell_type": "code",
   "execution_count": 484,
   "metadata": {},
   "outputs": [
    {
     "data": {
      "text/plain": [
       "<Functional name=functional_17, built=True>"
      ]
     },
     "execution_count": 484,
     "metadata": {},
     "output_type": "execute_result"
    }
   ],
   "source": [
    "model"
   ]
  },
  {
   "cell_type": "code",
   "execution_count": 554,
   "metadata": {
    "colab": {},
    "colab_type": "code",
    "id": "_3PJnCRIO8bM"
   },
   "outputs": [],
   "source": [
    "# utility to display a row of images with their predictions and true labels\n",
    "def display_images(image, predictions, labels, title, n):\n",
    "\n",
    "  display_strings = [str(i) + \"\\n\\n\" + str(j) for i, j in zip(predictions, labels)] \n",
    "\n",
    "  plt.figure(figsize=(17,3))\n",
    "  plt.title(title)\n",
    "  plt.yticks([])\n",
    "  plt.xticks([28*x+14 for x in range(n)], display_strings)\n",
    "  plt.grid(None)\n",
    "  # image = np.reshape(image, [n, 28, 28])\n",
    "  # image = np.swapaxes(image, 0, 1)\n",
    "  # image = np.reshape(image, [28, 28*n])\n",
    "  plt.imshow(image)"
   ]
  },
  {
   "cell_type": "code",
   "execution_count": 605,
   "metadata": {},
   "outputs": [],
   "source": [
    "#Freeze and export model\n",
    "for layer in model.layers:\n",
    "    layer.trainable = False\n",
    "\n",
    "model.trainable = False\n",
    "\n",
    "model.save(\"model.keras\")\n"
   ]
  },
  {
   "cell_type": "markdown",
   "metadata": {
    "colab_type": "text",
    "id": "505DveJuaCNO"
   },
   "source": [
    "You make predictions on the test dataset and plot the images with their true and predicted values."
   ]
  },
  {
   "cell_type": "code",
   "execution_count": null,
   "metadata": {
    "colab": {},
    "colab_type": "code",
    "id": "5ybveIIcPgVr"
   },
   "outputs": [
    {
     "ename": "ValueError",
     "evalue": "Inputs to a layer should be tensors. Got 'image' (of type <class 'str'>) as input for layer 'functional_17'.",
     "output_type": "error",
     "traceback": [
      "\u001b[1;31m---------------------------------------------------------------------------\u001b[0m",
      "\u001b[1;31mValueError\u001b[0m                                Traceback (most recent call last)",
      "Cell \u001b[1;32mIn[485], line 5\u001b[0m\n\u001b[0;32m      2\u001b[0m x_batches, y_pred_batches, y_true_batches \u001b[38;5;241m=\u001b[39m [], [], []\n\u001b[0;32m      4\u001b[0m \u001b[38;5;28;01mfor\u001b[39;00m x, y \u001b[38;5;129;01min\u001b[39;00m test_inputs:\n\u001b[1;32m----> 5\u001b[0m   y_pred \u001b[38;5;241m=\u001b[39m model(x)\n\u001b[0;32m      6\u001b[0m   y_pred_batches \u001b[38;5;241m=\u001b[39m y_pred\u001b[38;5;241m.\u001b[39mnumpy()\n\u001b[0;32m      7\u001b[0m   y_true_batches \u001b[38;5;241m=\u001b[39m y\u001b[38;5;241m.\u001b[39mnumpy()\n",
      "File \u001b[1;32mc:\\Users\\jonhe\\anaconda3\\envs\\TestEnvironment\\Lib\\site-packages\\keras\\src\\utils\\traceback_utils.py:122\u001b[0m, in \u001b[0;36mfilter_traceback.<locals>.error_handler\u001b[1;34m(*args, **kwargs)\u001b[0m\n\u001b[0;32m    119\u001b[0m     filtered_tb \u001b[38;5;241m=\u001b[39m _process_traceback_frames(e\u001b[38;5;241m.\u001b[39m__traceback__)\n\u001b[0;32m    120\u001b[0m     \u001b[38;5;66;03m# To get the full stack trace, call:\u001b[39;00m\n\u001b[0;32m    121\u001b[0m     \u001b[38;5;66;03m# `keras.config.disable_traceback_filtering()`\u001b[39;00m\n\u001b[1;32m--> 122\u001b[0m     \u001b[38;5;28;01mraise\u001b[39;00m e\u001b[38;5;241m.\u001b[39mwith_traceback(filtered_tb) \u001b[38;5;28;01mfrom\u001b[39;00m \u001b[38;5;28;01mNone\u001b[39;00m\n\u001b[0;32m    123\u001b[0m \u001b[38;5;28;01mfinally\u001b[39;00m:\n\u001b[0;32m    124\u001b[0m     \u001b[38;5;28;01mdel\u001b[39;00m filtered_tb\n",
      "File \u001b[1;32mc:\\Users\\jonhe\\anaconda3\\envs\\TestEnvironment\\Lib\\site-packages\\keras\\src\\layers\\input_spec.py:176\u001b[0m, in \u001b[0;36massert_input_compatibility\u001b[1;34m(input_spec, inputs, layer_name)\u001b[0m\n\u001b[0;32m    171\u001b[0m \u001b[38;5;66;03m# Having a shape/dtype is the only commonality of the various\u001b[39;00m\n\u001b[0;32m    172\u001b[0m \u001b[38;5;66;03m# tensor-like objects that may be passed. The most common kind of\u001b[39;00m\n\u001b[0;32m    173\u001b[0m \u001b[38;5;66;03m# invalid type we are guarding for is a Layer instance (Functional API),\u001b[39;00m\n\u001b[0;32m    174\u001b[0m \u001b[38;5;66;03m# which does not have a `shape` attribute.\u001b[39;00m\n\u001b[0;32m    175\u001b[0m \u001b[38;5;28;01mif\u001b[39;00m \u001b[38;5;129;01mnot\u001b[39;00m \u001b[38;5;28mhasattr\u001b[39m(x, \u001b[38;5;124m\"\u001b[39m\u001b[38;5;124mshape\u001b[39m\u001b[38;5;124m\"\u001b[39m):\n\u001b[1;32m--> 176\u001b[0m     \u001b[38;5;28;01mraise\u001b[39;00m \u001b[38;5;167;01mValueError\u001b[39;00m(\n\u001b[0;32m    177\u001b[0m         \u001b[38;5;124mf\u001b[39m\u001b[38;5;124m\"\u001b[39m\u001b[38;5;124mInputs to a layer should be tensors. Got \u001b[39m\u001b[38;5;124m'\u001b[39m\u001b[38;5;132;01m{\u001b[39;00mx\u001b[38;5;132;01m}\u001b[39;00m\u001b[38;5;124m'\u001b[39m\u001b[38;5;124m \u001b[39m\u001b[38;5;124m\"\u001b[39m\n\u001b[0;32m    178\u001b[0m         \u001b[38;5;124mf\u001b[39m\u001b[38;5;124m\"\u001b[39m\u001b[38;5;124m(of type \u001b[39m\u001b[38;5;132;01m{\u001b[39;00m\u001b[38;5;28mtype\u001b[39m(x)\u001b[38;5;132;01m}\u001b[39;00m\u001b[38;5;124m) as input for layer \u001b[39m\u001b[38;5;124m'\u001b[39m\u001b[38;5;132;01m{\u001b[39;00mlayer_name\u001b[38;5;132;01m}\u001b[39;00m\u001b[38;5;124m'\u001b[39m\u001b[38;5;124m.\u001b[39m\u001b[38;5;124m\"\u001b[39m\n\u001b[0;32m    179\u001b[0m     )\n\u001b[0;32m    181\u001b[0m shape \u001b[38;5;241m=\u001b[39m backend\u001b[38;5;241m.\u001b[39mstandardize_shape(x\u001b[38;5;241m.\u001b[39mshape)\n\u001b[0;32m    182\u001b[0m ndim \u001b[38;5;241m=\u001b[39m \u001b[38;5;28mlen\u001b[39m(shape)\n",
      "\u001b[1;31mValueError\u001b[0m: Inputs to a layer should be tensors. Got 'image' (of type <class 'str'>) as input for layer 'functional_17'."
     ]
    }
   ],
   "source": [
    "# test_inputs = train.batch(batch_size=1000001)\n",
    "# x_batches, y_pred_batches, y_true_batches = [], [], []\n",
    "\n",
    "# for x, y in test_inputs:\n",
    "#   y_pred = model(x)\n",
    "#   y_pred_batches = y_pred.numpy()\n",
    "#   y_true_batches = y.numpy()\n",
    "#   x_batches = x.numpy()\n",
    "\n",
    "# indexes = np.random.choice(len(y_pred_batches), size=10)\n",
    "# images_to_plot = x_batches[indexes]\n",
    "# y_pred_to_plot = y_pred_batches[indexes]\n",
    "# y_true_to_plot = y_true_batches[indexes]\n",
    "\n",
    "# y_pred_labels = [class_names[np.argmax(sel_y_pred)] for sel_y_pred in y_pred_to_plot]\n",
    "# y_true_labels = [class_names[sel_y_true] for sel_y_true in y_true_to_plot]\n",
    "# display_images(images_to_plot, y_pred_labels, y_true_labels, \"Predicted and True Values\", 10)"
   ]
  },
  {
   "cell_type": "code",
   "execution_count": null,
   "metadata": {},
   "outputs": [],
   "source": []
  }
 ],
 "metadata": {
  "colab": {
   "collapsed_sections": [],
   "include_colab_link": true,
   "name": "Training Categorical.ipynb",
   "private_outputs": true,
   "provenance": [],
   "toc_visible": true
  },
  "kernelspec": {
   "display_name": "TestEnvironment",
   "language": "python",
   "name": "python3"
  },
  "language_info": {
   "codemirror_mode": {
    "name": "ipython",
    "version": 3
   },
   "file_extension": ".py",
   "mimetype": "text/x-python",
   "name": "python",
   "nbconvert_exporter": "python",
   "pygments_lexer": "ipython3",
   "version": "3.12.7"
  }
 },
 "nbformat": 4,
 "nbformat_minor": 4
}
