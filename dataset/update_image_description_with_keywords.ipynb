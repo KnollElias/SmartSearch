{
 "cells": [
  {
   "cell_type": "markdown",
   "metadata": {},
   "source": [
    "## Extracted_Keyword to image_description\n",
    "\n"
   ]
  },
  {
   "cell_type": "code",
   "execution_count": 25,
   "metadata": {},
   "outputs": [
    {
     "name": "stdout",
     "output_type": "stream",
     "text": [
      "Updated JSON saved successfully to C:\\\\Users\\\\AndréHerrera\\\\OneDrive - Archipel Generalplanung AG\\\\Desktop\\\\Projekt IA-IFKL\\\\Hackathon 2025\\\\image_description_updated.json.\n"
     ]
    }
   ],
   "source": [
    "import json\n",
    "import re\n",
    "from typing import List\n",
    "\n",
    "def update_image_description_with_keywords(\n",
    "    extracted_keywords_path: str,\n",
    "    image_description_path: str,\n",
    "    output_path: str,\n",
    "    category: str\n",
    ") -> None:\n",
    "    \"\"\"\n",
    "    This function processes the extracted keywords from a JSON file, cleans them from unwanted characters,\n",
    "    and adds them under a specified category in the image description JSON file.\n",
    "\n",
    "    Parameters:\n",
    "    - extracted_keywords_path (str): Path to the extracted keywords JSON file.\n",
    "    - image_description_path (str): Path to the image description JSON file.\n",
    "    - output_path (str): Path to save the updated image description JSON file.\n",
    "    - category (str): The category in the image description JSON file to update.\n",
    "    \"\"\"\n",
    "    \n",
    "    # Regular expression to match unwanted characters (anything except alphanumeric, space, hyphen)\n",
    "    unwanted_pattern = re.compile(r\"[^a-zA-Z0-9äöüÄÖÜß\\s\\-]\")\n",
    "\n",
    "    # Load extracted keywords\n",
    "    with open(extracted_keywords_path, \"r\", encoding=\"utf-8\") as f:\n",
    "        extracted_data = json.load(f)\n",
    "\n",
    "    # Extract, clean, and sort keywords\n",
    "    extracted_keywords = sorted({\n",
    "        value[1].strip() for values in extracted_data.values() for value in values\n",
    "        if not unwanted_pattern.search(value[1].strip())  # Filters out unwanted values using regex\n",
    "    })\n",
    "\n",
    "    # Load image description JSON\n",
    "    with open(image_description_path, \"r\", encoding=\"utf-8\") as f:\n",
    "        image_data = json.load(f)\n",
    "\n",
    "    # Update the relevant dictionary\n",
    "    for detail in image_data[\"details\"]:\n",
    "        if detail.get(\"category\") == category:\n",
    "            detail[\"extracted_keywords_from_image\"] = extracted_keywords\n",
    "            break  # Assuming only one match is needed\n",
    "\n",
    "    # Save the updated JSON to the output path\n",
    "    with open(output_path, \"w\", encoding=\"utf-8\") as f:\n",
    "        json.dump(image_data, f, indent=2, ensure_ascii=False)\n",
    "\n",
    "    print(f\"Updated JSON saved successfully to {output_path}.\")\n",
    "\n",
    "# Example usage\n",
    "update_image_description_with_keywords(\n",
    "    extracted_keywords_path=r\"C:\\\\Users\\\\AndréHerrera\\\\OneDrive - Archipel Generalplanung AG\\\\Desktop\\\\Projekt IA-IFKL\\\\Hackathon 2025\\\\Extracted_Keywords.json\",\n",
    "    image_description_path=r\"C:\\\\Users\\\\AndréHerrera\\\\OneDrive - Archipel Generalplanung AG\\\\Desktop\\\\Projekt IA-IFKL\\\\Hackathon 2025\\\\image_description.json\",\n",
    "    output_path=r\"C:\\\\Users\\\\AndréHerrera\\\\OneDrive - Archipel Generalplanung AG\\\\Desktop\\\\Projekt IA-IFKL\\\\Hackathon 2025\\\\image_description_updated.json\",\n",
    "    category=\"ECG_GCG\"\n",
    ")\n"
   ]
  }
 ],
 "metadata": {
  "kernelspec": {
   "display_name": ".venv",
   "language": "python",
   "name": "python3"
  },
  "language_info": {
   "codemirror_mode": {
    "name": "ipython",
    "version": 3
   },
   "file_extension": ".py",
   "mimetype": "text/x-python",
   "name": "python",
   "nbconvert_exporter": "python",
   "pygments_lexer": "ipython3",
   "version": "3.11.9"
  }
 },
 "nbformat": 4,
 "nbformat_minor": 2
}
